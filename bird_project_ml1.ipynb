{
 "cells": [
  {
   "cell_type": "markdown",
   "metadata": {},
   "source": [
    "# Traditional machine learning algorithms to classify audio"
   ]
  },
  {
   "cell_type": "code",
   "execution_count": 2,
   "metadata": {
    "execution": {
     "iopub.execute_input": "2025-04-14T16:37:23.075345Z",
     "iopub.status.busy": "2025-04-14T16:37:23.074978Z",
     "iopub.status.idle": "2025-04-14T16:37:40.530596Z",
     "shell.execute_reply": "2025-04-14T16:37:40.529925Z",
     "shell.execute_reply.started": "2025-04-14T16:37:23.075318Z"
    }
   },
   "outputs": [],
   "source": [
    "import time\n",
    "from concurrent.futures import ThreadPoolExecutor\n",
    "import glob\n",
    "import librosa\n",
    "import numpy as np\n",
    "import os\n",
    "import pandas as pd\n",
    "import re\n",
    "import sys\n",
    "import cv2\n",
    "import torch\n",
    "import torch.nn as nn\n",
    "import torch.nn.functional as F\n",
    "import timm\n",
    "import torchaudio\n",
    "import torchaudio.transforms as AT\n",
    "import matplotlib.pyplot as plt\n",
    "from tqdm import tqdm\n",
    "from scipy import signal\n",
    "import gc\n",
    "import warnings\n",
    "import logging\n",
    "from pathlib import Path\n",
    "import random\n",
    "from sklearn.decomposition import PCA\n",
    "from sklearn.linear_model import LogisticRegression\n",
    "from sklearn.model_selection import train_test_split, RandomizedSearchCV\n",
    "from sklearn.preprocessing import LabelEncoder\n",
    "from sklearn.metrics import accuracy_score, classification_report\n",
    "from sklearn.pipeline import Pipeline\n",
    "\n",
    "\n",
    "warnings.filterwarnings(\"ignore\")\n",
    "logging.basicConfig(level=logging.ERROR)\n",
    "\n",
    "os.environ['CUDA_VISIBLE_DEVICES'] = ''\n",
    "torch.set_num_threads(4) "
   ]
  },
  {
   "cell_type": "code",
   "execution_count": 4,
   "metadata": {
    "execution": {
     "iopub.execute_input": "2025-04-14T16:38:27.217793Z",
     "iopub.status.busy": "2025-04-14T16:38:27.217188Z",
     "iopub.status.idle": "2025-04-14T16:39:04.314409Z",
     "shell.execute_reply": "2025-04-14T16:39:04.312796Z",
     "shell.execute_reply.started": "2025-04-14T16:38:27.217744Z"
    }
   },
   "outputs": [
    {
     "name": "stdout",
     "output_type": "stream",
     "text": [
      "X_array shape: (28564, 32768)\n",
      "y_array shape: (28564,)\n",
      "Example label: greani1\n"
     ]
    }
   ],
   "source": [
    "data_dict = np.load('/kaggle/input/train-data-npy/train_data.npy', allow_pickle=True).item()\n",
    "\n",
    "X_list = []\n",
    "y_list = []\n",
    "for fid, content in data_dict.items():\n",
    "    mel_2d = content['data']  # shape (128,256)\n",
    "    label_str = content['label']\n",
    "    \n",
    "    # Flatten from (128,256) => (32768,)\n",
    "    mel_1d = mel_2d.flatten()\n",
    "    \n",
    "    X_list.append(mel_1d)\n",
    "    y_list.append(label_str)\n",
    "\n",
    "X_array = np.array(X_list)  # shape (N, 128*256)\n",
    "y_array = np.array(y_list)  # shape (N,)\n",
    "\n",
    "print(\"X_array shape:\", X_array.shape)   # e.g. (N, 32768)\n",
    "print(\"y_array shape:\", y_array.shape)   # e.g. (N,)\n",
    "print(\"Example label:\", y_array[0])"
   ]
  },
  {
   "cell_type": "code",
   "execution_count": 7,
   "metadata": {
    "execution": {
     "iopub.execute_input": "2025-04-14T16:41:25.888978Z",
     "iopub.status.busy": "2025-04-14T16:41:25.888592Z",
     "iopub.status.idle": "2025-04-14T16:41:27.605548Z",
     "shell.execute_reply": "2025-04-14T16:41:27.604753Z",
     "shell.execute_reply.started": "2025-04-14T16:41:25.888952Z"
    }
   },
   "outputs": [],
   "source": [
    "# 2. label\n",
    "label_encoder = LabelEncoder()\n",
    "y_encoded = label_encoder.fit_transform(y_array)\n",
    "\n",
    "# 3. split\n",
    "X_train, X_test, y_train, y_test = train_test_split(X_array, y_encoded, test_size=0.2, random_state=42)"
   ]
  },
  {
   "cell_type": "markdown",
   "metadata": {},
   "source": [
    "## LR"
   ]
  },
  {
   "cell_type": "code",
   "execution_count": null,
   "metadata": {
    "execution": {
     "iopub.execute_input": "2025-04-14T16:41:52.456801Z",
     "iopub.status.busy": "2025-04-14T16:41:52.456482Z"
    }
   },
   "outputs": [
    {
     "name": "stdout",
     "output_type": "stream",
     "text": [
      "Fitting 3 folds for each of 15 candidates, totalling 45 fits\n"
     ]
    }
   ],
   "source": [
    "pipe = Pipeline([\n",
    "    ('pca', PCA()),\n",
    "    ('logreg', LogisticRegression(solver='saga', max_iter=1000))\n",
    "])\n",
    "\n",
    "param_dist = {\n",
    "    'pca__n_components': [128, 256, 512, 1024],\n",
    "    'logreg__C': np.logspace(-3, 3, 10),\n",
    "    'logreg__penalty': ['l1', 'l2'],\n",
    "    'logreg__solver': ['saga']\n",
    "}\n",
    "    \n",
    "random_search = RandomizedSearchCV(\n",
    "    pipe,\n",
    "    param_distributions=param_dist,\n",
    "    n_iter=15,\n",
    "    scoring='accuracy',\n",
    "    cv=3,\n",
    "    verbose=2,\n",
    "    random_state=42\n",
    ")\n",
    "\n",
    "random_search.fit(X_train, y_train)\n",
    "print(\"Best parameters:\", random_search.best_params_)\n",
    "\n",
    "best_model = random_search.best_estimator_\n",
    "y_pred = best_model.predict(X_test)\n",
    "acc = accuracy_score(y_test, y_pred)\n",
    "print(\"Test Accuracy:\", acc)\n",
    "print(classification_report(y_test, y_pred))"
   ]
  },
  {
   "cell_type": "code",
   "execution_count": null,
   "metadata": {},
   "outputs": [],
   "source": [
    "results = random_search.cv_results_\n",
    "plt.semilogx(param_dist['C'], results['mean_test_score'])\n",
    "plt.xlabel('Regularization parameter C')\n",
    "plt.ylabel('Mean cross-validated accuracy')\n",
    "plt.title('Logistic Regression Hyperparameter Tuning')\n",
    "plt.show()"
   ]
  }
 ],
 "metadata": {
  "kaggle": {
   "accelerator": "none",
   "dataSources": [
    {
     "databundleVersionId": 11361821,
     "sourceId": 91844,
     "sourceType": "competition"
    },
    {
     "datasetId": 7144075,
     "sourceId": 11405342,
     "sourceType": "datasetVersion"
    }
   ],
   "dockerImageVersionId": 31012,
   "isGpuEnabled": false,
   "isInternetEnabled": true,
   "language": "python",
   "sourceType": "notebook"
  },
  "kernelspec": {
   "display_name": "Python 3 (ipykernel)",
   "language": "python",
   "name": "python3"
  },
  "language_info": {
   "codemirror_mode": {
    "name": "ipython",
    "version": 3
   },
   "file_extension": ".py",
   "mimetype": "text/x-python",
   "name": "python",
   "nbconvert_exporter": "python",
   "pygments_lexer": "ipython3",
   "version": "3.11.6"
  }
 },
 "nbformat": 4,
 "nbformat_minor": 4
}
